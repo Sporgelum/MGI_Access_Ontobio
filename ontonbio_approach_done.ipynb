{
 "cells": [
  {
   "cell_type": "markdown",
   "metadata": {
    "tags": []
   },
   "source": [
    "### Ontobio approach API for retrieving ancestors of `go:id` and `go:terms`."
   ]
  },
  {
   "cell_type": "code",
   "execution_count": 1,
   "metadata": {},
   "outputs": [
    {
     "name": "stderr",
     "output_type": "stream",
     "text": [
      "/home/marius/.local/lib/python3.8/site-packages/rdflib_jsonld/__init__.py:9: DeprecationWarning: The rdflib-jsonld package has been integrated into rdflib as of rdflib==6.0.1.  Please remove rdflib-jsonld from your project's dependencies.\n",
      "  warnings.warn(\n"
     ]
    }
   ],
   "source": [
    "import requests,os,sys,glob\n",
    "import urllib.request\n",
    "import time\n",
    "from bs4 import BeautifulSoup\n",
    "import re\n",
    "import pandas as pd\n",
    "import csv\n",
    "## Create an ontology factory in order to fetch GO\n",
    "from ontobio.ontol_factory import OntologyFactory\n",
    "ofactory = OntologyFactory()\n",
    "\n",
    "## GOLR queries\n",
    "from ontobio.golr.golr_query import GolrAssociationQuery\n",
    "\n",
    "## rendering ontologies\n",
    "from ontobio import GraphRenderer\n",
    "import owl_tools"
   ]
  },
  {
   "cell_type": "code",
   "execution_count": 2,
   "metadata": {},
   "outputs": [],
   "source": [
    "#!{sys.executable} -m pip install --upgrade pip\n",
    "#!{sys.executable} -m pip install ontobio\n",
    "#!{sys.executable} -m pip install obonet\n",
    "#!{sys.executable} -m  pip install owl-tools\n",
    "## Autocomplete tab press jedi\n",
    "#!{sys.executable} -m pip install pyreadline jedi==0.17.2"
   ]
  },
  {
   "cell_type": "code",
   "execution_count": 3,
   "metadata": {},
   "outputs": [],
   "source": [
    "#!wget http://purl.obolibrary.org/obo/go/snapshot/go.obo\n",
    "#!wget http://purl.obolibrary.org/obo/gbo/snapshot/go.owl"
   ]
  },
  {
   "cell_type": "markdown",
   "metadata": {},
   "source": [
    "### Create ontology file locally with downloaded link \n",
    "###### date 19.10.2021\n"
   ]
  },
  {
   "cell_type": "code",
   "execution_count": 4,
   "metadata": {},
   "outputs": [],
   "source": [
    "ont = ofactory.create(\"/home/marius/Environments/BeautifoulScrap/workingEnv/MGI_GO_BP/go.owl\")"
   ]
  },
  {
   "cell_type": "code",
   "execution_count": 5,
   "metadata": {},
   "outputs": [],
   "source": [
    "## Load GO. Note the first time this runs Jupyter will show '*' - be patient\n",
    "#ont = ofactory.create(\"go\") "
   ]
  },
  {
   "cell_type": "markdown",
   "metadata": {
    "tags": []
   },
   "source": [
    "### Finding descendants\n",
    "Here we are using the in-memory ontology object, no external service calls are executed\n",
    "\n",
    "Change the value of `term_id` to what you like"
   ]
  },
  {
   "cell_type": "markdown",
   "metadata": {
    "tags": []
   },
   "source": [
    "### Select the term for enrichment"
   ]
  },
  {
   "cell_type": "code",
   "execution_count": 6,
   "metadata": {},
   "outputs": [],
   "source": [
    "term_id = \"GO:0072673\" ## serine family amino acid biosynthetic process"
   ]
  },
  {
   "cell_type": "markdown",
   "metadata": {
    "jp-MarkdownHeadingCollapsed": true,
    "tags": []
   },
   "source": [
    "### Descendants"
   ]
  },
  {
   "cell_type": "code",
   "execution_count": 7,
   "metadata": {},
   "outputs": [
    {
     "data": {
      "text/plain": [
       "['GO:2000394', 'GO:2000393', 'GO:2000392', 'GO:0072673']"
      ]
     },
     "execution_count": 7,
     "metadata": {},
     "output_type": "execute_result"
    }
   ],
   "source": [
    "descendants = ont.descendants(term_id, reflexive=True)\n",
    "descendants"
   ]
  },
  {
   "cell_type": "code",
   "execution_count": 8,
   "metadata": {},
   "outputs": [
    {
     "name": "stdout",
     "output_type": "stream",
     "text": [
      ". GO:0072673 ! lamellipodium morphogenesis\n",
      " RO:0002211 GO:2000392 ! regulation of lamellipodium morphogenesis\n",
      "  % GO:2000393 ! negative regulation of lamellipodium morphogenesis\n",
      "  % GO:2000394 ! positive regulation of lamellipodium morphogenesis\n",
      " RO:0002212 GO:2000393 ! negative regulation of lamellipodium morphogenesis\n",
      " RO:0002213 GO:2000394 ! positive regulation of lamellipodium morphogenesis\n",
      "\n",
      "\n"
     ]
    }
   ],
   "source": [
    "renderer = GraphRenderer.create('tree')\n",
    "print(renderer.render_subgraph(ont, nodes=descendants))"
   ]
  },
  {
   "cell_type": "markdown",
   "metadata": {
    "tags": []
   },
   "source": [
    "### Ancestors"
   ]
  },
  {
   "cell_type": "code",
   "execution_count": 9,
   "metadata": {},
   "outputs": [
    {
     "data": {
      "text/plain": [
       "['GO:0009653',\n",
       " 'GO:0048869',\n",
       " 'GO:0097581',\n",
       " 'GO:0048856',\n",
       " 'GO:0032989',\n",
       " 'GO:0032502',\n",
       " 'GO:0000902',\n",
       " 'GO:0071840',\n",
       " 'GO:0120039',\n",
       " 'GO:0032990',\n",
       " 'GO:0008150',\n",
       " 'GO:0048858',\n",
       " 'GO:0009987',\n",
       " 'GO:0016043',\n",
       " 'GO:0030030',\n",
       " 'GO:0072673',\n",
       " 'GO:0120036']"
      ]
     },
     "execution_count": 9,
     "metadata": {},
     "output_type": "execute_result"
    }
   ],
   "source": [
    "ancestors = ont.ancestors(term_id,reflexive=True)\n",
    "ancestors"
   ]
  },
  {
   "cell_type": "code",
   "execution_count": 10,
   "metadata": {},
   "outputs": [
    {
     "data": {
      "text/plain": [
       "['GO:0009653',\n",
       " 'GO:0048869',\n",
       " 'GO:0097581',\n",
       " 'GO:0032989',\n",
       " 'GO:0032502',\n",
       " 'GO:0071840',\n",
       " 'GO:0120039',\n",
       " 'GO:0032990',\n",
       " 'GO:0008150',\n",
       " 'GO:0048858',\n",
       " 'GO:0009987',\n",
       " 'GO:0016043',\n",
       " 'GO:0030030',\n",
       " 'GO:0072673',\n",
       " 'GO:0120036']"
      ]
     },
     "execution_count": 10,
     "metadata": {},
     "output_type": "execute_result"
    }
   ],
   "source": [
    "ancestors1 = ont.ancestors(term_id,reflexive=True,relations=['subClassOf'])\n",
    "ancestors1"
   ]
  },
  {
   "cell_type": "code",
   "execution_count": 11,
   "metadata": {},
   "outputs": [
    {
     "name": "stdout",
     "output_type": "stream",
     "text": [
      ". GO:0008150 ! biological_process\n",
      " % GO:0009987 ! cellular process\n",
      "  % GO:0071840 ! cellular component organization or biogenesis\n",
      "   % GO:0016043 ! cellular component organization\n",
      "    % GO:0030030 ! cell projection organization\n",
      "     % GO:0120036 ! plasma membrane bounded cell projection organization\n",
      "      % GO:0097581 ! lamellipodium organization\n",
      "       % GO:0072673 ! lamellipodium morphogenesis\n",
      "     % GO:0048858 ! cell projection morphogenesis\n",
      "      % GO:0120039 ! plasma membrane bounded cell projection morphogenesis\n",
      "       % GO:0072673 ! lamellipodium morphogenesis\n",
      "    % GO:0032989 ! cellular component morphogenesis\n",
      "     % GO:0032990 ! cell part morphogenesis\n",
      "      % GO:0048858 ! cell projection morphogenesis\n",
      "       % GO:0120039 ! plasma membrane bounded cell projection morphogenesis\n",
      "        % GO:0072673 ! lamellipodium morphogenesis\n",
      "  % GO:0048869 ! cellular developmental process\n",
      "   % GO:0032989 ! cellular component morphogenesis\n",
      "    % GO:0032990 ! cell part morphogenesis\n",
      "     % GO:0048858 ! cell projection morphogenesis\n",
      "      % GO:0120039 ! plasma membrane bounded cell projection morphogenesis\n",
      "       % GO:0072673 ! lamellipodium morphogenesis\n",
      " % GO:0032502 ! developmental process\n",
      "  % GO:0009653 ! anatomical structure morphogenesis\n",
      "   % GO:0032989 ! cellular component morphogenesis\n",
      "    % GO:0032990 ! cell part morphogenesis\n",
      "     % GO:0048858 ! cell projection morphogenesis\n",
      "      % GO:0120039 ! plasma membrane bounded cell projection morphogenesis\n",
      "       % GO:0072673 ! lamellipodium morphogenesis\n",
      "   % GO:0000902 ! cell morphogenesis\n",
      "    < GO:0048858 ! cell projection morphogenesis\n",
      "     % GO:0120039 ! plasma membrane bounded cell projection morphogenesis\n",
      "      % GO:0072673 ! lamellipodium morphogenesis\n",
      "  % GO:0048856 ! anatomical structure development\n",
      "   < GO:0009653 ! anatomical structure morphogenesis\n",
      "    % GO:0032989 ! cellular component morphogenesis\n",
      "     % GO:0032990 ! cell part morphogenesis\n",
      "      % GO:0048858 ! cell projection morphogenesis\n",
      "       % GO:0120039 ! plasma membrane bounded cell projection morphogenesis\n",
      "        % GO:0072673 ! lamellipodium morphogenesis\n",
      "    % GO:0000902 ! cell morphogenesis\n",
      "     < GO:0048858 ! cell projection morphogenesis\n",
      "      % GO:0120039 ! plasma membrane bounded cell projection morphogenesis\n",
      "       % GO:0072673 ! lamellipodium morphogenesis\n",
      "  % GO:0048869 ! cellular developmental process\n",
      "   % GO:0032989 ! cellular component morphogenesis\n",
      "    % GO:0032990 ! cell part morphogenesis\n",
      "     % GO:0048858 ! cell projection morphogenesis\n",
      "      % GO:0120039 ! plasma membrane bounded cell projection morphogenesis\n",
      "       % GO:0072673 ! lamellipodium morphogenesis\n",
      "\n",
      "\n"
     ]
    }
   ],
   "source": [
    "renderer = GraphRenderer.create('tree')\n",
    "print(renderer.render_subgraph(ont, nodes=ancestors))"
   ]
  },
  {
   "cell_type": "code",
   "execution_count": 12,
   "metadata": {},
   "outputs": [
    {
     "name": "stdout",
     "output_type": "stream",
     "text": [
      ". GO:0008150 ! biological_process\n",
      " % GO:0032502 ! developmental process\n",
      "  % GO:0009653 ! anatomical structure morphogenesis\n",
      "   % GO:0032989 ! cellular component morphogenesis\n",
      "    % GO:0032990 ! cell part morphogenesis\n",
      "     % GO:0048858 ! cell projection morphogenesis\n",
      "      % GO:0120039 ! plasma membrane bounded cell projection morphogenesis\n",
      "       % GO:0072673 ! lamellipodium morphogenesis\n",
      "  % GO:0048869 ! cellular developmental process\n",
      "   % GO:0032989 ! cellular component morphogenesis\n",
      "    % GO:0032990 ! cell part morphogenesis\n",
      "     % GO:0048858 ! cell projection morphogenesis\n",
      "      % GO:0120039 ! plasma membrane bounded cell projection morphogenesis\n",
      "       % GO:0072673 ! lamellipodium morphogenesis\n",
      " % GO:0009987 ! cellular process\n",
      "  % GO:0071840 ! cellular component organization or biogenesis\n",
      "   % GO:0016043 ! cellular component organization\n",
      "    % GO:0030030 ! cell projection organization\n",
      "     % GO:0120036 ! plasma membrane bounded cell projection organization\n",
      "      % GO:0097581 ! lamellipodium organization\n",
      "       % GO:0072673 ! lamellipodium morphogenesis\n",
      "     % GO:0048858 ! cell projection morphogenesis\n",
      "      % GO:0120039 ! plasma membrane bounded cell projection morphogenesis\n",
      "       % GO:0072673 ! lamellipodium morphogenesis\n",
      "    % GO:0032989 ! cellular component morphogenesis\n",
      "     % GO:0032990 ! cell part morphogenesis\n",
      "      % GO:0048858 ! cell projection morphogenesis\n",
      "       % GO:0120039 ! plasma membrane bounded cell projection morphogenesis\n",
      "        % GO:0072673 ! lamellipodium morphogenesis\n",
      "  % GO:0048869 ! cellular developmental process\n",
      "   % GO:0032989 ! cellular component morphogenesis\n",
      "    % GO:0032990 ! cell part morphogenesis\n",
      "     % GO:0048858 ! cell projection morphogenesis\n",
      "      % GO:0120039 ! plasma membrane bounded cell projection morphogenesis\n",
      "       % GO:0072673 ! lamellipodium morphogenesis\n",
      "\n",
      "\n"
     ]
    }
   ],
   "source": [
    "renderer = GraphRenderer.create('tree')\n",
    "print(renderer.render_subgraph(ont, nodes=ancestors1))"
   ]
  },
  {
   "cell_type": "code",
   "execution_count": 13,
   "metadata": {},
   "outputs": [
    {
     "data": {
      "text/html": [
       "<div>\n",
       "<style scoped>\n",
       "    .dataframe tbody tr th:only-of-type {\n",
       "        vertical-align: middle;\n",
       "    }\n",
       "\n",
       "    .dataframe tbody tr th {\n",
       "        vertical-align: top;\n",
       "    }\n",
       "\n",
       "    .dataframe thead th {\n",
       "        text-align: right;\n",
       "    }\n",
       "</style>\n",
       "<table border=\"1\" class=\"dataframe\">\n",
       "  <thead>\n",
       "    <tr style=\"text-align: right;\">\n",
       "      <th></th>\n",
       "      <th>ID</th>\n",
       "      <th>Process</th>\n",
       "    </tr>\n",
       "  </thead>\n",
       "  <tbody>\n",
       "    <tr>\n",
       "      <th>0</th>\n",
       "      <td>GO:0008150</td>\n",
       "      <td>biological_process</td>\n",
       "    </tr>\n",
       "    <tr>\n",
       "      <th>1</th>\n",
       "      <td>GO:0009987</td>\n",
       "      <td>cellular process</td>\n",
       "    </tr>\n",
       "    <tr>\n",
       "      <th>2</th>\n",
       "      <td>GO:0071840</td>\n",
       "      <td>cellular component organization or biogenesis</td>\n",
       "    </tr>\n",
       "    <tr>\n",
       "      <th>3</th>\n",
       "      <td>GO:0016043</td>\n",
       "      <td>cellular component organization</td>\n",
       "    </tr>\n",
       "    <tr>\n",
       "      <th>4</th>\n",
       "      <td>GO:0030030</td>\n",
       "      <td>cell projection organization</td>\n",
       "    </tr>\n",
       "    <tr>\n",
       "      <th>5</th>\n",
       "      <td>GO:0120036</td>\n",
       "      <td>plasma membrane bounded cell projection organi...</td>\n",
       "    </tr>\n",
       "    <tr>\n",
       "      <th>6</th>\n",
       "      <td>GO:0097581</td>\n",
       "      <td>lamellipodium organization</td>\n",
       "    </tr>\n",
       "    <tr>\n",
       "      <th>7</th>\n",
       "      <td>GO:0072673</td>\n",
       "      <td>lamellipodium morphogenesis</td>\n",
       "    </tr>\n",
       "  </tbody>\n",
       "</table>\n",
       "</div>"
      ],
      "text/plain": [
       "             ID                                            Process\n",
       "0   GO:0008150                                  biological_process\n",
       "1   GO:0009987                                    cellular process\n",
       "2   GO:0071840       cellular component organization or biogenesis\n",
       "3   GO:0016043                     cellular component organization\n",
       "4   GO:0030030                        cell projection organization\n",
       "5   GO:0120036   plasma membrane bounded cell projection organi...\n",
       "6   GO:0097581                          lamellipodium organization\n",
       "7   GO:0072673                         lamellipodium morphogenesis"
      ]
     },
     "execution_count": 13,
     "metadata": {},
     "output_type": "execute_result"
    }
   ],
   "source": [
    "tree = [elements.strip(\" \").strip(\"%\").strip(\".\").split(\"!\") for elements in renderer.render_subgraph(ont, nodes=ancestors).split(\"\\n\")]\n",
    "tree_df = pd.DataFrame(tree,columns=[\"ID\", \"Process\"])\n",
    "tree_df[\"Process\"] = tree_df[\"Process\"].str.lstrip()\n",
    "tree_df\n",
    "go_term = \"lamellipodium morphogenesis\"\n",
    "tree_df.iloc[:int(list(tree_df[\"Process\"]).index(go_term))+1]\n"
   ]
  },
  {
   "cell_type": "code",
   "execution_count": 14,
   "metadata": {},
   "outputs": [
    {
     "data": {
      "text/html": [
       "<div>\n",
       "<style scoped>\n",
       "    .dataframe tbody tr th:only-of-type {\n",
       "        vertical-align: middle;\n",
       "    }\n",
       "\n",
       "    .dataframe tbody tr th {\n",
       "        vertical-align: top;\n",
       "    }\n",
       "\n",
       "    .dataframe thead th {\n",
       "        text-align: right;\n",
       "    }\n",
       "</style>\n",
       "<table border=\"1\" class=\"dataframe\">\n",
       "  <thead>\n",
       "    <tr style=\"text-align: right;\">\n",
       "      <th></th>\n",
       "      <th>ID</th>\n",
       "      <th>Process</th>\n",
       "    </tr>\n",
       "  </thead>\n",
       "  <tbody>\n",
       "    <tr>\n",
       "      <th>0</th>\n",
       "      <td>GO:0008150</td>\n",
       "      <td>biological_process</td>\n",
       "    </tr>\n",
       "    <tr>\n",
       "      <th>1</th>\n",
       "      <td>GO:0032502</td>\n",
       "      <td>developmental process</td>\n",
       "    </tr>\n",
       "    <tr>\n",
       "      <th>2</th>\n",
       "      <td>GO:0009653</td>\n",
       "      <td>anatomical structure morphogenesis</td>\n",
       "    </tr>\n",
       "    <tr>\n",
       "      <th>3</th>\n",
       "      <td>GO:0032989</td>\n",
       "      <td>cellular component morphogenesis</td>\n",
       "    </tr>\n",
       "    <tr>\n",
       "      <th>4</th>\n",
       "      <td>GO:0032990</td>\n",
       "      <td>cell part morphogenesis</td>\n",
       "    </tr>\n",
       "    <tr>\n",
       "      <th>5</th>\n",
       "      <td>GO:0048858</td>\n",
       "      <td>cell projection morphogenesis</td>\n",
       "    </tr>\n",
       "    <tr>\n",
       "      <th>6</th>\n",
       "      <td>GO:0120039</td>\n",
       "      <td>plasma membrane bounded cell projection morpho...</td>\n",
       "    </tr>\n",
       "    <tr>\n",
       "      <th>7</th>\n",
       "      <td>GO:0072673</td>\n",
       "      <td>lamellipodium morphogenesis</td>\n",
       "    </tr>\n",
       "  </tbody>\n",
       "</table>\n",
       "</div>"
      ],
      "text/plain": [
       "             ID                                            Process\n",
       "0   GO:0008150                                  biological_process\n",
       "1   GO:0032502                               developmental process\n",
       "2   GO:0009653                  anatomical structure morphogenesis\n",
       "3   GO:0032989                    cellular component morphogenesis\n",
       "4   GO:0032990                             cell part morphogenesis\n",
       "5   GO:0048858                       cell projection morphogenesis\n",
       "6   GO:0120039   plasma membrane bounded cell projection morpho...\n",
       "7   GO:0072673                         lamellipodium morphogenesis"
      ]
     },
     "execution_count": 14,
     "metadata": {},
     "output_type": "execute_result"
    }
   ],
   "source": [
    "tree = [elements.strip(\" \").strip(\"%\").strip(\".\").split(\"!\") for elements in renderer.render_subgraph(ont, nodes=ancestors1).split(\"\\n\")]\n",
    "tree_df = pd.DataFrame(tree,columns=[\"ID\", \"Process\"])\n",
    "tree_df[\"Process\"] = tree_df[\"Process\"].str.lstrip()\n",
    "go_term = \"lamellipodium morphogenesis\"\n",
    "tree_df = tree_df.iloc[:int(list(tree_df[\"Process\"]).index(go_term))+1]\n",
    "tree_df"
   ]
  },
  {
   "cell_type": "code",
   "execution_count": 15,
   "metadata": {},
   "outputs": [
    {
     "data": {
      "text/plain": [
       "['biological_process',\n",
       " 'developmental process',\n",
       " 'anatomical structure morphogenesis',\n",
       " 'cellular component morphogenesis',\n",
       " 'cell part morphogenesis',\n",
       " 'cell projection morphogenesis',\n",
       " 'plasma membrane bounded cell projection morphogenesis',\n",
       " 'lamellipodium morphogenesis']"
      ]
     },
     "execution_count": 15,
     "metadata": {},
     "output_type": "execute_result"
    }
   ],
   "source": [
    "list(tree_df.Process)"
   ]
  },
  {
   "cell_type": "markdown",
   "metadata": {
    "tags": []
   },
   "source": [
    "### Function to call the result, from a GO:ID and The term of it."
   ]
  },
  {
   "cell_type": "code",
   "execution_count": 16,
   "metadata": {},
   "outputs": [],
   "source": [
    "def go_writer(go_id,go_term):\n",
    "    \"\"\"Use the GO:ID to select the tree behind it, the ancestors and return the annotations of the terms.\"\"\"\n",
    "    #print(go_id+\"\\tand \"+go_term)\n",
    "    ancestors = ont.ancestors(go_id,reflexive=True)\n",
    "    #ancestors\n",
    "    renderer = GraphRenderer.create('tree')\n",
    "    #print(renderer.render_subgraph(ont, nodes=ancestors))\n",
    "    #strip(\" \").strip(\"%\").strip(\".\")\n",
    "    tree = [elements.strip(\" %.\").split(\"!\") for elements in renderer.render_subgraph(ont, nodes=ancestors).split(\"\\n\")]\n",
    "    tree_df = pd.DataFrame(tree,columns=[\"ID\", \"Process\"])\n",
    "    tree_df[\"Process\"] = tree_df[\"Process\"].str.lstrip()\n",
    "    tree_df = tree_df.iloc[:int(list(tree_df[\"Process\"]).index(go_term))+1]\n",
    "    return(list(tree_df.iloc[:,1]))   "
   ]
  },
  {
   "cell_type": "code",
   "execution_count": 17,
   "metadata": {},
   "outputs": [
    {
     "data": {
      "text/plain": [
       "[['cristae formation',\n",
       "  'inner mitochondrial membrane organization',\n",
       "  'mitochondrial membrane organization',\n",
       "  'mitochondrion',\n",
       "  'intracellular membrane-bounded organelle',\n",
       "  'intracellular organelle',\n",
       "  'organelle',\n",
       "  'cellular anatomical entity',\n",
       "  'cellular_component']]"
      ]
     },
     "execution_count": 17,
     "metadata": {},
     "output_type": "execute_result"
    }
   ],
   "source": [
    "lists_data = []\n",
    "a = go_writer(go_id = \"GO:0042407\", go_term= \"cristae formation\")\n",
    "a.reverse()\n",
    "lists_data.append(a)\n",
    "lists_data"
   ]
  },
  {
   "cell_type": "code",
   "execution_count": 18,
   "metadata": {},
   "outputs": [
    {
     "ename": "NameError",
     "evalue": "name 'r' is not defined",
     "output_type": "error",
     "traceback": [
      "\u001b[0;31m---------------------------------------------------------------------------\u001b[0m",
      "\u001b[0;31mNameError\u001b[0m                                 Traceback (most recent call last)",
      "\u001b[0;32m<ipython-input-18-5a3c4adaa9b6>\u001b[0m in \u001b[0;36m<module>\u001b[0;34m\u001b[0m\n\u001b[1;32m      1\u001b[0m \u001b[0;31m#Convert the object from r to python\u001b[0m\u001b[0;34m\u001b[0m\u001b[0;34m\u001b[0m\u001b[0;34m\u001b[0m\u001b[0m\n\u001b[0;32m----> 2\u001b[0;31m \u001b[0mdf_py\u001b[0m \u001b[0;34m=\u001b[0m \u001b[0mr\u001b[0m\u001b[0;34m.\u001b[0m\u001b[0mdr_unique_deseq2_go_bp_005_sham_GO_T_ID\u001b[0m\u001b[0;34m\u001b[0m\u001b[0;34m\u001b[0m\u001b[0m\n\u001b[0m\u001b[1;32m      3\u001b[0m \u001b[0msoftware\u001b[0m \u001b[0;34m=\u001b[0m \u001b[0;34m\"DESeq2\"\u001b[0m\u001b[0;34m\u001b[0m\u001b[0;34m\u001b[0m\u001b[0m\n\u001b[1;32m      4\u001b[0m \u001b[0mspecies\u001b[0m \u001b[0;34m=\u001b[0m \u001b[0;34m\"Drer\"\u001b[0m\u001b[0;34m\u001b[0m\u001b[0;34m\u001b[0m\u001b[0m\n\u001b[1;32m      5\u001b[0m \u001b[0mspecific\u001b[0m \u001b[0;34m=\u001b[0m \u001b[0;34m\"SHAM\"\u001b[0m\u001b[0;34m\u001b[0m\u001b[0;34m\u001b[0m\u001b[0m\n",
      "\u001b[0;31mNameError\u001b[0m: name 'r' is not defined"
     ]
    }
   ],
   "source": [
    "#Convert the object from r to python\n",
    "df_py = r.dr_unique_deseq2_go_bp_005_sham_GO_T_ID\n",
    "software = \"DESeq2\"\n",
    "species = \"Drer\"\n",
    "specific = \"SHAM\"\n",
    "\n",
    "def activ_go_writer(software,df_py,species,specific):\n",
    "    #Create a list and use the prior function.\n",
    "    df_py_list = list()\n",
    "    for i in range(len(df_py[\"ID\"])):\n",
    "        a = go_writer(\n",
    "            go_id = df_py.iloc[i,1],\n",
    "            go_term = df_py.iloc[i,0])\n",
    "        a.reverse()\n",
    "        df_py_list.append(a)\n",
    "    #Save the file\n",
    "    file = open(\"/home/marius/Documents/Projects/prsa/Outputs/\" +\n",
    "                str(species) + \"/clustered_heatmap/\" +\n",
    "                str(software) + \"/paths_df_unique_\" +\n",
    "                str(software) + \"_\" +\n",
    "                str(species) + \"_go_bp_\" +\n",
    "                str(specific) + \"_MGI.csv\",\n",
    "                \"a+\",\n",
    "                newline = \"\")\n",
    "    with file:\n",
    "        write = csv.writer(file,delimiter=\",\")\n",
    "        write.writerows(df_py_list)\n",
    "    print(\"Wrote and annotated \" + str(\"df\"))\n",
    "    return(df_py_list)"
   ]
  },
  {
   "cell_type": "code",
   "execution_count": null,
   "metadata": {},
   "outputs": [],
   "source": [
    "def activ_go_writer(software,df_py,species,specific):\n",
    "    #Create a list and use the prior function.\n",
    "    df_py_list = list()\n",
    "    for i in range(len(df_py[\"ID\"])):\n",
    "        if df_py.iloc[i,0] == \"cell cycle checkpoint\" & df_py.iloc[i,1] == \"GO:0000075\":\n",
    "            continue\n",
    "        a = go_writer(\n",
    "            go_id = df_py.iloc[i,1],\n",
    "            go_term = df_py.iloc[i,0])\n",
    "        a.reverse()\n",
    "        df_py_list.append(a)\n",
    "    #Save the file\n",
    "    file = open(\"/home/marius/Documents/Projects/prsa/Outputs/\" +\n",
    "                str(species) + \"/clustered_heatmap/\" +\n",
    "                str(software) + \"/paths_df_\" +\n",
    "                str(software) + \"_\" +\n",
    "                str(species) + \"_go_bp_\" +\n",
    "                str(specific) + \"_MGI.csv\",\n",
    "                \"a+\",\n",
    "                newline = \"\")\n",
    "    with file:\n",
    "        write = csv.writer(file,delimiter=\",\")\n",
    "        write.writerows(df_py_list)\n",
    "    print(\"Wrote and annotated \" + str(\"df\"))\n",
    "    return(df_py_list)"
   ]
  },
  {
   "cell_type": "markdown",
   "metadata": {},
   "source": [
    "### Reformat the function, use only the GO:ID for making it less succeptible for changes between data sets."
   ]
  },
  {
   "cell_type": "code",
   "execution_count": 27,
   "metadata": {},
   "outputs": [
    {
     "data": {
      "text/html": [
       "<div>\n",
       "<style scoped>\n",
       "    .dataframe tbody tr th:only-of-type {\n",
       "        vertical-align: middle;\n",
       "    }\n",
       "\n",
       "    .dataframe tbody tr th {\n",
       "        vertical-align: top;\n",
       "    }\n",
       "\n",
       "    .dataframe thead th {\n",
       "        text-align: right;\n",
       "    }\n",
       "</style>\n",
       "<table border=\"1\" class=\"dataframe\">\n",
       "  <thead>\n",
       "    <tr style=\"text-align: right;\">\n",
       "      <th></th>\n",
       "      <th>ID</th>\n",
       "      <th>Process</th>\n",
       "    </tr>\n",
       "  </thead>\n",
       "  <tbody>\n",
       "    <tr>\n",
       "      <th>0</th>\n",
       "      <td>GO:0008150</td>\n",
       "      <td>biological_process</td>\n",
       "    </tr>\n",
       "    <tr>\n",
       "      <th>1</th>\n",
       "      <td>GO:0009987</td>\n",
       "      <td>cellular process</td>\n",
       "    </tr>\n",
       "    <tr>\n",
       "      <th>2</th>\n",
       "      <td>GO:0071840</td>\n",
       "      <td>cellular component organization or biogenesis</td>\n",
       "    </tr>\n",
       "    <tr>\n",
       "      <th>3</th>\n",
       "      <td>GO:0016043</td>\n",
       "      <td>cellular component organization</td>\n",
       "    </tr>\n",
       "    <tr>\n",
       "      <th>4</th>\n",
       "      <td>GO:0030030</td>\n",
       "      <td>cell projection organization</td>\n",
       "    </tr>\n",
       "    <tr>\n",
       "      <th>5</th>\n",
       "      <td>GO:0120036</td>\n",
       "      <td>plasma membrane bounded cell projection organi...</td>\n",
       "    </tr>\n",
       "    <tr>\n",
       "      <th>6</th>\n",
       "      <td>GO:0097581</td>\n",
       "      <td>lamellipodium organization</td>\n",
       "    </tr>\n",
       "    <tr>\n",
       "      <th>7</th>\n",
       "      <td>GO:0072673</td>\n",
       "      <td>lamellipodium morphogenesis</td>\n",
       "    </tr>\n",
       "  </tbody>\n",
       "</table>\n",
       "</div>"
      ],
      "text/plain": [
       "           ID                                            Process\n",
       "0  GO:0008150                                 biological_process\n",
       "1  GO:0009987                                   cellular process\n",
       "2  GO:0071840      cellular component organization or biogenesis\n",
       "3  GO:0016043                    cellular component organization\n",
       "4  GO:0030030                       cell projection organization\n",
       "5  GO:0120036  plasma membrane bounded cell projection organi...\n",
       "6  GO:0097581                         lamellipodium organization\n",
       "7  GO:0072673                        lamellipodium morphogenesis"
      ]
     },
     "execution_count": 27,
     "metadata": {},
     "output_type": "execute_result"
    }
   ],
   "source": [
    "tree = [elements.strip(\" \").strip(\"%\").strip(\".\").split(\"!\") for elements in renderer.render_subgraph(ont, nodes=ancestors).split(\"\\n\")]\n",
    "\n",
    "tree_df = pd.DataFrame(tree,columns=[\"ID\", \"Process\"])\n",
    "tree_df[\"Process\"] = tree_df[\"Process\"].str.lstrip()\n",
    "tree_df[\"ID\"] =  tree_df[\"ID\"].str.strip(\" \")\n",
    "#tree_df.iloc[1,0]\n",
    "tree_df = tree_df.iloc[:int(list(tree_df[\"ID\"]).index(term_id))+1]\n",
    "tree_df\n"
   ]
  },
  {
   "cell_type": "code",
   "execution_count": 22,
   "metadata": {},
   "outputs": [],
   "source": [
    "def go_writer(go_id):\n",
    "    \"\"\"Use the GO:ID to select the tree behind it, the ancestors and return the annotations of the terms.\"\"\"\n",
    "    #print(go_id+\"\\tand \"+go_term)\n",
    "    ancestors = ont.ancestors(go_id,reflexive=True)\n",
    "    #ancestors\n",
    "    renderer = GraphRenderer.create('tree')\n",
    "    #print(renderer.render_subgraph(ont, nodes=ancestors))\n",
    "    #strip(\" \").strip(\"%\").strip(\".\")\n",
    "    tree = [elements.strip(\" %.\").split(\"!\") for elements in renderer.render_subgraph(ont, nodes=ancestors).split(\"\\n\")]\n",
    "    tree_df = pd.DataFrame(tree,columns=[\"ID\", \"Process\"])\n",
    "    tree_df[\"Process\"] = tree_df[\"Process\"].str.lstrip()\n",
    "    tree_df[\"ID\"] =  tree_df[\"ID\"].str.strip(\" \")\n",
    "    tree_df = tree_df.iloc[:int(list(tree_df[\"ID\"]).index(go_id))+1]\n",
    "    return(list(tree_df.iloc[:,1]))  "
   ]
  },
  {
   "cell_type": "code",
   "execution_count": 23,
   "metadata": {},
   "outputs": [
    {
     "data": {
      "text/plain": [
       "[['cristae formation',\n",
       "  'inner mitochondrial membrane organization',\n",
       "  'mitochondrial membrane organization',\n",
       "  'mitochondrion',\n",
       "  'intracellular membrane-bounded organelle',\n",
       "  'intracellular organelle',\n",
       "  'organelle',\n",
       "  'cellular anatomical entity',\n",
       "  'cellular_component']]"
      ]
     },
     "execution_count": 23,
     "metadata": {},
     "output_type": "execute_result"
    }
   ],
   "source": [
    "lists_data = []\n",
    "a = go_writer(go_id = \"GO:0042407\")\n",
    "a.reverse()\n",
    "lists_data.append(a)\n",
    "lists_data"
   ]
  }
 ],
 "metadata": {
  "kernelspec": {
   "display_name": "Python 3",
   "language": "python",
   "name": "python3"
  },
  "language_info": {
   "codemirror_mode": {
    "name": "ipython",
    "version": 3
   },
   "file_extension": ".py",
   "mimetype": "text/x-python",
   "name": "python",
   "nbconvert_exporter": "python",
   "pygments_lexer": "ipython3",
   "version": "3.8.10"
  }
 },
 "nbformat": 4,
 "nbformat_minor": 4
}
